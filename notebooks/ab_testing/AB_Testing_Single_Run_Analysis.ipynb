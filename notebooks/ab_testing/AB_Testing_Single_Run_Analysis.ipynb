{
 "cells": [
  {
   "cell_type": "markdown",
   "id": "191f89a7",
   "metadata": {},
   "source": [
    "# **A/B Test Simulation – Single Run**\n",
    "<hr style=\"border:1px solid #444;\">"
   ]
  },
  {
   "cell_type": "markdown",
   "id": "af47760c",
   "metadata": {},
   "source": [
    "#### **Objective**\n",
    "This notebook simulates a single A/B test across multiple e-commerce product categories to measure lift in conversion rate.\n",
    "\n",
    "### **Notebook Structure**\n",
    "The notebook is organized into the following sections (top-to-bottom):\n",
    "\n",
    "1. Simulation Test Data\n",
    "2. Aggregate Results and Calculate Metrics\n",
    "3. Plot 1 - Conversion Rate by Category and Group\n",
    "4. Plot 2 - Lift Percentage\n",
    "5. Summary Table\n"
   ]
  },
  {
   "cell_type": "markdown",
   "id": "f605228c",
   "metadata": {},
   "source": [
    "---"
   ]
  },
  {
   "cell_type": "markdown",
   "id": "05d0c7ed",
   "metadata": {},
   "source": [
    "### Section 1: Simulate Test Data"
   ]
  },
  {
   "cell_type": "code",
   "execution_count": 12,
   "id": "a386c66f",
   "metadata": {},
   "outputs": [],
   "source": [
    "import pandas as pd\n",
    "import numpy as np\n",
    "import matplotlib.pyplot as plt\n",
    "import seaborn as sns\n",
    "from scipy.stats import norm\n",
    "\n",
    "# Set seed for reproducibility\n",
    "np.random.seed(42)\n",
    "\n",
    "n = 100_000\n",
    "categories = ['Electronics', 'Clothing', 'Home Goods', 'Beauty', 'Toys']\n",
    "group = np.random.choice(['A', 'B'], size=n)\n",
    "category = np.random.choice(categories, size=n)\n",
    "visits = np.random.randint(50, 300, size=n)\n",
    "\n",
    "base_conversion = {\n",
    "    'Electronics': 0.05,\n",
    "    'Clothing': 0.08,\n",
    "    'Home Goods': 0.04,\n",
    "    'Beauty': 0.07,\n",
    "    'Toys': 0.06\n",
    "}\n",
    "lift = {\n",
    "    'Electronics': 0.02,\n",
    "    'Clothing': 0.01,\n",
    "    'Home Goods': 0.03,\n",
    "    'Beauty': 0.00,\n",
    "    'Toys': -0.01\n",
    "}\n",
    "\n",
    "# Simulate binary outcomes (1 = success, 0 = failure)\n",
    "conversions = []\n",
    "for g, c, v in zip(group, category, visits):\n",
    "    rate = base_conversion[c] + (lift[c] if g == 'B' else 0)\n",
    "    conv = np.random.binomial(v, np.clip(rate, 0, 1))\n",
    "    conversions.append(conv)\n",
    "    "
   ]
  },
  {
   "cell_type": "markdown",
   "id": "2b4d317d",
   "metadata": {},
   "source": [
    "<hr style=\"border:1px solid #444;\">\n"
   ]
  },
  {
   "cell_type": "markdown",
   "id": "fa026710",
   "metadata": {},
   "source": [
    "### Section 2: Aggregate Results and Calculate Metrics"
   ]
  },
  {
   "cell_type": "code",
   "execution_count": 13,
   "id": "0f84c16c",
   "metadata": {},
   "outputs": [],
   "source": [
    "# Create summary DataFrame for display\n",
    "df = pd.DataFrame({'Group': group, 'Category': category, 'Visits': visits, 'Conversions': conversions})\n",
    "df['Rate'] = df['Conversions'] / df['Visits']\n",
    "\n",
    "agg_df = df.groupby(['Category', 'Group'])[['Visits', 'Conversions']].sum().reset_index()\n",
    "agg_df['Rate'] = agg_df['Conversions'] / agg_df['Visits']\n",
    "agg_df['StdErr'] = np.sqrt(agg_df['Rate'] * (1 - agg_df['Rate']) / agg_df['Visits'])\n",
    "\n",
    "rate_pivot = agg_df.pivot(index='Category', columns='Group', values='Rate').reset_index()\n",
    "se_pivot = agg_df.pivot(index='Category', columns='Group', values='StdErr').reset_index()\n",
    "\n",
    "summary_df = rate_pivot.rename(columns={'A': 'Rate_A', 'B': 'Rate_B'})\n",
    "summary_df['Lift_%'] = ((summary_df['Rate_B'] - summary_df['Rate_A']) / summary_df['Rate_A']) * 100\n",
    "summary_df['StdErr_A'] = se_pivot['A']\n",
    "summary_df['StdErr_B'] = se_pivot['B']\n",
    "summary_df['Lift_StdErr'] = np.sqrt((summary_df['StdErr_A'] / summary_df['Rate_A']) ** 2 +\n",
    "                                    (summary_df['StdErr_B'] / summary_df['Rate_B']) ** 2) * np.abs(summary_df['Lift_%'])\n",
    "\n",
    "# Compute z-score\n",
    "summary_df['Z_score'] = (summary_df['Rate_B'] - summary_df['Rate_A']) / np.sqrt(\n",
    "    summary_df['StdErr_A']**2 + summary_df['StdErr_B']**2)\n",
    "\n",
    "# Compute one-tailed p-value from z-score\n",
    "summary_df['P_value'] = 2 * (1 - norm.cdf(np.abs(summary_df['Z_score'])))\n"
   ]
  },
  {
   "cell_type": "markdown",
   "id": "6ce9e29a",
   "metadata": {},
   "source": [
    "<hr style=\"border:1px solid #444;\">\n"
   ]
  },
  {
   "cell_type": "markdown",
   "id": "21fe7fd9",
   "metadata": {},
   "source": [
    "### Section 3: Plot 1 - Conversion Rate by Category and Group"
   ]
  },
  {
   "cell_type": "code",
   "execution_count": 14,
   "id": "18c7fc88",
   "metadata": {},
   "outputs": [
    {
     "data": {
      "image/png": "[encoded data removed]",
      "text/plain": [
       "<Figure size 1000x600 with 1 Axes>"
      ]
     },
     "metadata": {},
     "output_type": "display_data"
    }
   ],
   "source": [
    "plt.figure(figsize=(10, 6))\n",
    "sns.barplot(data=agg_df, x='Category', y='Rate', hue='Group', palette='Set2', errorbar=None)\n",
    "for i in range(len(agg_df)):\n",
    "    row = agg_df.iloc[i]\n",
    "    x_offset = -0.2 if row['Group'] == 'A' else 0.2\n",
    "    x = i // 2 + x_offset\n",
    "    plt.errorbar(x, row['Rate'], yerr=row['StdErr'], fmt='none', ecolor='black', capsize=4)\n",
    "\n",
    "plt.title(\"Conversion Rate by Category and Group\")\n",
    "plt.ylabel(\"Conversion Rate\")\n",
    "plt.xlabel(\"Product Category\")\n",
    "plt.ylim(0, 0.13)\n",
    "plt.legend(title='Group')\n",
    "plt.tight_layout()\n",
    "plt.savefig('../../assets/ab_testing/ab_single_run_conversion_rates.png', bbox_inches='tight', dpi=300)\n",
    "plt.show()\n"
   ]
  },
  {
   "cell_type": "markdown",
   "id": "ebbe1374",
   "metadata": {},
   "source": [
    "<hr style=\"border:1px solid #444;\">\n"
   ]
  },
  {
   "cell_type": "markdown",
   "id": "8b3fe089",
   "metadata": {},
   "source": [
    "### Section 4: Plot 2 - Lift Percentage"
   ]
  },
  {
   "cell_type": "code",
   "execution_count": 15,
   "id": "f33d78a7",
   "metadata": {},
   "outputs": [
    {
     "data": {
      "image/png": "[encoded data removed]",
      "text/plain": [
       "<Figure size 1000x600 with 1 Axes>"
      ]
     },
     "metadata": {},
     "output_type": "display_data"
    }
   ],
   "source": [
    "plt.figure(figsize=(10, 6))\n",
    "colors = ['skyblue' if val >= 0 else 'salmon' for val in summary_df['Lift_%']]\n",
    "x = np.arange(len(summary_df))\n",
    "\n",
    "bars = plt.bar(x, summary_df['Lift_%'], color=colors, edgecolor='black', width=0.6)\n",
    "plt.errorbar(x, summary_df['Lift_%'], yerr=summary_df['Lift_StdErr'], fmt='none', ecolor='black', capsize=5)\n",
    "\n",
    "for i, val in enumerate(summary_df['Lift_%']):\n",
    "    plt.text(i, val + (2 if val >= 0 else -3), f\"{val:.1f}%\", ha='center', va='bottom' if val >= 0 else 'top')\n",
    "\n",
    "plt.axhline(0, color='gray', linestyle='--')\n",
    "plt.xticks(x, summary_df['Category'], rotation=45)\n",
    "plt.title(\"Lift % in Conversion Rate from Group A to B by Category\")\n",
    "plt.ylabel(\"Lift (%)\")\n",
    "plt.tight_layout()\n",
    "plt.savefig('../../assets/ab_testing/ab_single_run_lift_by_category.png', bbox_inches='tight', dpi=300)\n",
    "plt.show()\n"
   ]
  },
  {
   "cell_type": "markdown",
   "id": "d4c074a4",
   "metadata": {},
   "source": [
    "<hr style=\"border:1px solid #444;\">\n"
   ]
  },
  {
   "cell_type": "markdown",
   "id": "828dcf31",
   "metadata": {},
   "source": [
    "### Section 5: Summary Table"
   ]
  },
  {
   "cell_type": "code",
   "execution_count": 16,
   "id": "c4a834d4",
   "metadata": {},
   "outputs": [
    {
     "data": {
      "text/html": [
       "<div>\n",
       "<style scoped>\n",
       "    .dataframe tbody tr th:only-of-type {\n",
       "        vertical-align: middle;\n",
       "    }\n",
       "\n",
       "    .dataframe tbody tr th {\n",
       "        vertical-align: top;\n",
       "    }\n",
       "\n",
       "    .dataframe thead th {\n",
       "        text-align: right;\n",
       "    }\n",
       "</style>\n",
       "<table border=\"1\" class=\"dataframe\">\n",
       "  <thead>\n",
       "    <tr style=\"text-align: right;\">\n",
       "      <th>Group</th>\n",
       "      <th>Category</th>\n",
       "      <th>Rate_A</th>\n",
       "      <th>StdErr_A</th>\n",
       "      <th>Rate_B</th>\n",
       "      <th>StdErr_B</th>\n",
       "      <th>Lift_%</th>\n",
       "      <th>Lift_StdErr</th>\n",
       "      <th>Z_score</th>\n",
       "      <th>P_value</th>\n",
       "    </tr>\n",
       "  </thead>\n",
       "  <tbody>\n",
       "    <tr>\n",
       "      <th>0</th>\n",
       "      <td>Beauty</td>\n",
       "      <td>0.0700</td>\n",
       "      <td>0.0002</td>\n",
       "      <td>0.0700</td>\n",
       "      <td>0.0002</td>\n",
       "      <td>0.0020</td>\n",
       "      <td>7.9539e-06</td>\n",
       "      <td>0.0052</td>\n",
       "      <td>0.9959</td>\n",
       "    </tr>\n",
       "    <tr>\n",
       "      <th>1</th>\n",
       "      <td>Clothing</td>\n",
       "      <td>0.0803</td>\n",
       "      <td>0.0002</td>\n",
       "      <td>0.0905</td>\n",
       "      <td>0.0002</td>\n",
       "      <td>12.8026</td>\n",
       "      <td>4.4722e-02</td>\n",
       "      <td>34.5043</td>\n",
       "      <td>0.0000</td>\n",
       "    </tr>\n",
       "    <tr>\n",
       "      <th>2</th>\n",
       "      <td>Electronics</td>\n",
       "      <td>0.0503</td>\n",
       "      <td>0.0002</td>\n",
       "      <td>0.0699</td>\n",
       "      <td>0.0002</td>\n",
       "      <td>39.0054</td>\n",
       "      <td>1.6771e-01</td>\n",
       "      <td>77.2605</td>\n",
       "      <td>0.0000</td>\n",
       "    </tr>\n",
       "    <tr>\n",
       "      <th>3</th>\n",
       "      <td>Home Goods</td>\n",
       "      <td>0.0398</td>\n",
       "      <td>0.0001</td>\n",
       "      <td>0.0698</td>\n",
       "      <td>0.0002</td>\n",
       "      <td>75.2933</td>\n",
       "      <td>3.4994e-01</td>\n",
       "      <td>122.8904</td>\n",
       "      <td>0.0000</td>\n",
       "    </tr>\n",
       "    <tr>\n",
       "      <th>4</th>\n",
       "      <td>Toys</td>\n",
       "      <td>0.0601</td>\n",
       "      <td>0.0002</td>\n",
       "      <td>0.0500</td>\n",
       "      <td>0.0002</td>\n",
       "      <td>-16.8505</td>\n",
       "      <td>7.4712e-02</td>\n",
       "      <td>-41.6756</td>\n",
       "      <td>0.0000</td>\n",
       "    </tr>\n",
       "  </tbody>\n",
       "</table>\n",
       "</div>"
      ],
      "text/plain": [
       "Group     Category  Rate_A  StdErr_A  Rate_B  StdErr_B   Lift_%  Lift_StdErr  \\\n",
       "0           Beauty  0.0700    0.0002  0.0700    0.0002   0.0020   7.9539e-06   \n",
       "1         Clothing  0.0803    0.0002  0.0905    0.0002  12.8026   4.4722e-02   \n",
       "2      Electronics  0.0503    0.0002  0.0699    0.0002  39.0054   1.6771e-01   \n",
       "3       Home Goods  0.0398    0.0001  0.0698    0.0002  75.2933   3.4994e-01   \n",
       "4             Toys  0.0601    0.0002  0.0500    0.0002 -16.8505   7.4712e-02   \n",
       "\n",
       "Group   Z_score  P_value  \n",
       "0        0.0052   0.9959  \n",
       "1       34.5043   0.0000  \n",
       "2       77.2605   0.0000  \n",
       "3      122.8904   0.0000  \n",
       "4      -41.6756   0.0000  "
      ]
     },
     "execution_count": 16,
     "metadata": {},
     "output_type": "execute_result"
    }
   ],
   "source": [
    "pd.set_option(\"display.precision\", 4)\n",
    "summary_df[['Category', 'Rate_A', 'StdErr_A', 'Rate_B', 'StdErr_B', 'Lift_%', 'Lift_StdErr', 'Z_score', 'P_value']]\n"
   ]
  },
  {
   "cell_type": "markdown",
   "id": "108538ec",
   "metadata": {},
   "source": [
    "The A/B test was performed across five product categories to evaluate whether the treatment (Group B) significantly affected conversion rates compared to the control (Group A). A z-test for proportions was applied to each category to measure lift, statistical confidence, and significance.\n",
    "\n",
    "**Key Results:**\n",
    "\n",
    "- **Clothing, Electronics, and Home Goods** showed strong positive lift and extremely high z-scores with **p-values < 0.001**, indicating a **statistically significant improvement** in conversion rates for Group B\n",
    "- **Toys** demonstrated a **statistically significant negative lift** (-16.85%), suggesting the treatment may have adversely impacted conversions in this segment\n",
    "- **Beauty** had an insignificant lift (~0.2%) with a **p-value of 0.9959**, suggesting **no meaningful difference** between control and variant\n",
    "\n",
    "**Interpretation:**\n",
    "\n",
    "- The **statistically significant uplift** in key categories supports a positive business impact of the treatment\n",
    "- The **Toys category may require re-evaluation**, as the treatment had a detrimental effect\n",
    "- The **Beauty segment's result may be due to random noise**, and does not warrant campaign changes\n",
    "\n",
    "**Recommendation:**\n",
    "\n",
    "- **Roll out** the treatment across Clothing, Electronics, and Home Goods\n",
    "- **Investigate** the negative response in Toys for possible UX or targeting issues\n",
    "- **No action** needed for Beauty until further data confirms a trend"
   ]
  },
  {
   "cell_type": "markdown",
   "id": "0e2c4de0",
   "metadata": {},
   "source": [
    "<hr style=\"border:1px solid #444;\">\n"
   ]
  }
 ],
 "metadata": {
  "kernelspec": {
   "display_name": "venv",
   "language": "python",
   "name": "python3"
  },
  "language_info": {
   "codemirror_mode": {
    "name": "ipython",
    "version": 3
   },
   "file_extension": ".py",
   "mimetype": "text/x-python",
   "name": "python",
   "nbconvert_exporter": "python",
   "pygments_lexer": "ipython3",
   "version": "3.10.1"
  }
 },
 "nbformat": 4,
 "nbformat_minor": 5
}
